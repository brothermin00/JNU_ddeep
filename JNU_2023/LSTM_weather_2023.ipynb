{
  "nbformat": 4,
  "nbformat_minor": 0,
  "metadata": {
    "colab": {
      "provenance": [],
      "authorship_tag": "ABX9TyOzwdK7/4Ow4mLWzWD62R8R",
      "include_colab_link": true
    },
    "kernelspec": {
      "name": "python3",
      "display_name": "Python 3"
    },
    "language_info": {
      "name": "python"
    }
  },
  "cells": [
    {
      "cell_type": "markdown",
      "metadata": {
        "id": "view-in-github",
        "colab_type": "text"
      },
      "source": [
        "<a href=\"https://colab.research.google.com/github/brothermin00/JNU_2023/blob/main/LSTM_weather_2023.ipynb\" target=\"_parent\"><img src=\"https://colab.research.google.com/assets/colab-badge.svg\" alt=\"Open In Colab\"/></a>"
      ]
    },
    {
      "cell_type": "markdown",
      "source": [
        "Import Modules"
      ],
      "metadata": {
        "id": "mzDiFsmiK0Yl"
      }
    },
    {
      "cell_type": "code",
      "execution_count": null,
      "metadata": {
        "id": "1jgBXBpVKtHT"
      },
      "outputs": [],
      "source": [
        "from google.colab import drive\n",
        "drive.mount('/content/drive')"
      ]
    },
    {
      "cell_type": "markdown",
      "source": [
        "Mounted at /content/drive"
      ],
      "metadata": {
        "id": "apiMwfOKK4AB"
      }
    },
    {
      "cell_type": "code",
      "source": [
        "import pandas as pd\n",
        "import numpy as np\n",
        "from tensorflow import keras\n",
        "import matplotlib.pyplot as plt\n",
        "import os"
      ],
      "metadata": {
        "id": "hUsd7IQiK5mx"
      },
      "execution_count": null,
      "outputs": []
    },
    {
      "cell_type": "markdown",
      "source": [
        "Download Dataset"
      ],
      "metadata": {
        "id": "TErQJ7PLK69g"
      }
    },
    {
      "cell_type": "code",
      "source": [
        "!wget https://github.com/onebottlekick/JNU_dl/releases/download/lstm/jena_climate_2009_2016.csv"
      ],
      "metadata": {
        "id": "1gZD6hgAK8To"
      },
      "execution_count": null,
      "outputs": []
    },
    {
      "cell_type": "markdown",
      "source": [
        "Show Dataset"
      ],
      "metadata": {
        "id": "on8PzzThK-Iu"
      }
    },
    {
      "cell_type": "code",
      "source": [
        "pd.read_csv('jena_climate_2009_2016.csv')"
      ],
      "metadata": {
        "id": "ttYn5EjzLAOF"
      },
      "execution_count": null,
      "outputs": []
    },
    {
      "cell_type": "markdown",
      "source": [
        "Data Reader"
      ],
      "metadata": {
        "id": "mBzy8XwnLC_Q"
      }
    },
    {
      "cell_type": "code",
      "source": [
        "class DataReader():\n",
        "    def __init__(self, window_size):\n",
        "        self.headers = []\n",
        "        self.train_X, self.train_Y, self.test_X, self.test_Y = self.read_data(window_size)\n",
        "\n",
        "        # 데이터 읽기가 완료되었습니다.\n",
        "        # 읽어온 데이터의 정보를 출력합니다.\n",
        "        print(\"\\n\\nData Read Done!\")\n",
        "        print(\"Training X Size : \" + str(self.train_X.shape))\n",
        "        print(\"Training Y Size : \" + str(self.train_Y.shape))\n",
        "        print(\"Test X Size : \" + str(self.test_X.shape))\n",
        "        print(\"Test Y Size : \" + str(self.test_Y.shape) + '\\n\\n')\n",
        "\n",
        "    def read_data(self, window_size):\n",
        "        filename = 'jena_climate_2009_2016.csv'\n",
        "        data = np.loadtxt(filename, delimiter=\",\", skiprows=1, usecols=(1, 2, 3, 4, 5, 6, 7, 8, 9, 10, 11, 12, 13, 14))\n",
        "\n",
        "        # data 수를 반으로 줄임\n",
        "        data = data[:int(data.shape[0]*0.5), :]\n",
        "\n",
        "        data = data - np.min(data, axis=0) + 0.0001\n",
        "        data = data / np.max(data, axis=0)\n",
        "        train_data = data[:int(len(data)*0.8)]\n",
        "        test_data = data[int(len(data) * 0.8):]\n",
        "\n",
        "        train_X, train_Y = self.windowing(train_data, window_size)\n",
        "        test_X, test_Y = self.windowing(test_data, window_size)\n",
        "\n",
        "        return train_X, train_Y, test_X, test_Y\n",
        "\n",
        "    def windowing(self, array, window_size):\n",
        "        X = []\n",
        "        Y = []\n",
        "\n",
        "        for i in range(len(array)-window_size*2):\n",
        "            X.append(array[i:i+window_size])\n",
        "            Y.append(array[i+window_size:i + window_size*2])\n",
        "\n",
        "        return np.asarray(X), np.asarray(Y)"
      ],
      "metadata": {
        "id": "80FHBU0kLEm-"
      },
      "execution_count": null,
      "outputs": []
    },
    {
      "cell_type": "markdown",
      "source": [
        "LSTM Model"
      ],
      "metadata": {
        "id": "jZqOgngsLHSa"
      }
    },
    {
      "cell_type": "code",
      "source": [
        "model = keras.Sequential([\n",
        "    keras.layers.LSTM(8, return_sequences=True),\n",
        "    keras.layers.Dense(32),\n",
        "    keras.layers.Dense(14),\n",
        "])"
      ],
      "metadata": {
        "id": "2601WwzPLIwJ"
      },
      "execution_count": null,
      "outputs": []
    },
    {
      "cell_type": "markdown",
      "source": [
        "Train Model"
      ],
      "metadata": {
        "id": "Dd-V044JLKQR"
      }
    },
    {
      "cell_type": "code",
      "source": [
        "dr = DataReader(12)\n",
        "EPOCHS = 50\n",
        "\n",
        "model.compile(optimizer=\"adam\", metrics=[\"mae\"], loss=\"mse\")\n",
        "\n",
        "print(\"\\n\\n************ TRAINING START ************ \")\n",
        "early_stop = keras.callbacks.EarlyStopping(monitor='val_loss', patience=10)\n",
        "history = model.fit(dr.train_X, dr.train_Y, epochs=EPOCHS,\n",
        "                    validation_data=(dr.test_X, dr.test_Y),\n",
        "                    callbacks=[early_stop])"
      ],
      "metadata": {
        "id": "MlNJu8ToLLWd"
      },
      "execution_count": null,
      "outputs": []
    },
    {
      "cell_type": "markdown",
      "source": [
        "Plot function"
      ],
      "metadata": {
        "id": "zuI8kynvLO6f"
      }
    },
    {
      "cell_type": "code",
      "source": [
        "def draw_scatter(prediction, label, num_feature=''):\n",
        "    X = prediction / np.max(prediction, axis=0)\n",
        "    Y = label / np.max(label, axis=0)\n",
        "\n",
        "    if num_feature:\n",
        "        X = X[:, :, num_feature]\n",
        "        Y = Y[: ,:, num_feature]\n",
        "\n",
        "    minval = min(np.min(X), np.min(Y))\n",
        "    maxval = max(np.max(X), np.max(Y))\n",
        "\n",
        "    fig = plt.figure(figsize=(8, 8))\n",
        "    plt.title(\"Regression Result\")\n",
        "    plt.xlabel(\"Ground Truth\")\n",
        "    plt.ylabel(\"AI Predict\")\n",
        "    plt.scatter(X, Y)\n",
        "    plt.plot([minval, maxval], [minval, maxval], \"red\")\n",
        "    fig.savefig(f\"result_{num_feature}.png\")\n",
        "    plt.show()\n",
        "\n",
        "def draw_loss_graph(history):\n",
        "    train_history = history.history[\"loss\"]\n",
        "    validation_history = history.history[\"val_loss\"]\n",
        "    fig = plt.figure(figsize=(8, 8))\n",
        "    plt.title(\"Loss History\")\n",
        "    plt.xlabel(\"EPOCH\")\n",
        "    plt.ylabel(\"LOSS Function\")\n",
        "    plt.plot(train_history, \"red\", label='train')\n",
        "    plt.plot(validation_history, 'blue', label='validation')\n",
        "    fig.savefig(\"train_history.png\")\n",
        "    plt.legend()\n",
        "    plt.show()"
      ],
      "metadata": {
        "id": "PmV5NnmgLP4o"
      },
      "execution_count": null,
      "outputs": []
    },
    {
      "cell_type": "markdown",
      "source": [
        "Show Results"
      ],
      "metadata": {
        "id": "vcoJANPyLSfY"
      }
    },
    {
      "cell_type": "code",
      "source": [
        "draw_loss_graph(history)"
      ],
      "metadata": {
        "id": "0N3vR4CiLT_H"
      },
      "execution_count": null,
      "outputs": []
    },
    {
      "cell_type": "code",
      "source": [
        "draw_scatter(model(dr.test_X[:200]), dr.test_Y[:200])"
      ],
      "metadata": {
        "id": "DRwWX7giLY6A"
      },
      "execution_count": null,
      "outputs": []
    },
    {
      "cell_type": "code",
      "source": [
        "draw_scatter(model(dr.test_X[:200]), dr.test_Y[:200], num_feature=1)"
      ],
      "metadata": {
        "id": "WTfaAAt6Lax4"
      },
      "execution_count": null,
      "outputs": []
    }
  ]
}