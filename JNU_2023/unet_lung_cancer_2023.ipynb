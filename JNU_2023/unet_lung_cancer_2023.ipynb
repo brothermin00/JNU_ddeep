{
  "nbformat": 4,
  "nbformat_minor": 0,
  "metadata": {
    "colab": {
      "provenance": [],
      "authorship_tag": "ABX9TyPkZDK6+dVO95JIUxKX+1Ln",
      "include_colab_link": true
    },
    "kernelspec": {
      "name": "python3",
      "display_name": "Python 3"
    },
    "language_info": {
      "name": "python"
    }
  },
  "cells": [
    {
      "cell_type": "markdown",
      "metadata": {
        "id": "view-in-github",
        "colab_type": "text"
      },
      "source": [
        "<a href=\"https://colab.research.google.com/github/brothermin00/JNU_2023/blob/main/unet_lung_cancer_2023.ipynb\" target=\"_parent\"><img src=\"https://colab.research.google.com/assets/colab-badge.svg\" alt=\"Open In Colab\"/></a>"
      ]
    },
    {
      "cell_type": "markdown",
      "source": [
        "Unet"
      ],
      "metadata": {
        "id": "7caqlv_tMpJM"
      }
    },
    {
      "cell_type": "code",
      "execution_count": null,
      "metadata": {
        "id": "lK84ixeoMonB"
      },
      "outputs": [],
      "source": [
        "from google.colab import drive\n",
        "drive.mount('/content/drive')"
      ]
    },
    {
      "cell_type": "markdown",
      "source": [
        "Download Model and Dataset"
      ],
      "metadata": {
        "id": "gIJ3sLNbMsZq"
      }
    },
    {
      "cell_type": "code",
      "source": [
        "!wget https://github.com/onebottlekick/JNU_dl/releases/download/unet/lung_005_z160_anno.jpg\n",
        "!wget https://github.com/onebottlekick/JNU_dl/releases/download/unet/lung_005_z160.jpg\n",
        "!wget https://github.com/onebottlekick/JNU_dl/releases/download/unet/unet.h5"
      ],
      "metadata": {
        "id": "9Rfc0FXvMt2e"
      },
      "execution_count": null,
      "outputs": []
    },
    {
      "cell_type": "markdown",
      "source": [
        "Import Modules"
      ],
      "metadata": {
        "id": "x8rN0MOlMvm9"
      }
    },
    {
      "cell_type": "code",
      "source": [
        "import tensorflow as tf\n",
        "from PIL import Image\n",
        "import numpy as np\n",
        "import matplotlib.pyplot as plt"
      ],
      "metadata": {
        "id": "Cd_pwuymMxim"
      },
      "execution_count": null,
      "outputs": []
    },
    {
      "cell_type": "markdown",
      "source": [
        "Load Model"
      ],
      "metadata": {
        "id": "I6wiNxDyMzXy"
      }
    },
    {
      "cell_type": "code",
      "source": [
        "model = tf.keras.models.load_model('unet.h5')"
      ],
      "metadata": {
        "id": "YiMItaQ4M1tN"
      },
      "execution_count": null,
      "outputs": []
    },
    {
      "cell_type": "markdown",
      "source": [
        "Utils"
      ],
      "metadata": {
        "id": "tWs0X0QRM3aL"
      }
    },
    {
      "cell_type": "code",
      "source": [
        "def process_img(img):\n",
        "    img = Image.open(img).convert('RGB')\n",
        "    img = np.asarray(img)/255.0\n",
        "    return img\n",
        "\n",
        "def process_anno(annotation):\n",
        "    annotation = Image.open(annotation).convert('RGB')\n",
        "    annotation = np.asarray(annotation)[:, :, 0]\n",
        "    temp = np.zeros_like(annotation)\n",
        "    temp[annotation > 127.5] = 1.0\n",
        "    annotation = temp\n",
        "    return temp\n",
        "\n",
        "def show_img(x):\n",
        "    plt.imshow(x, cmap='gray')\n",
        "    plt.axis('off')\n",
        "    plt.show()"
      ],
      "metadata": {
        "id": "dqy3n1zjM4tK"
      },
      "execution_count": null,
      "outputs": []
    },
    {
      "cell_type": "markdown",
      "source": [
        "Load Dataset"
      ],
      "metadata": {
        "id": "rH7RklBJM7Fn"
      }
    },
    {
      "cell_type": "code",
      "source": [
        "img = 'lung_005_z160.jpg'\n",
        "annotation = 'lung_005_z160_anno.jpg'\n",
        "\n",
        "img = process_img(img)\n",
        "annotation = process_anno(annotation)"
      ],
      "metadata": {
        "id": "tnj7mfb9M85C"
      },
      "execution_count": null,
      "outputs": []
    },
    {
      "cell_type": "code",
      "source": [
        "show_img(img)\n",
        "show_img(annotation)"
      ],
      "metadata": {
        "id": "ACeJ231FM-yr"
      },
      "execution_count": null,
      "outputs": []
    },
    {
      "cell_type": "markdown",
      "source": [
        "Model Prediction"
      ],
      "metadata": {
        "id": "dQWM53toNA5N"
      }
    },
    {
      "cell_type": "code",
      "source": [
        "prediction = model.predict(np.expand_dims(img, axis=0))[:, :, :, 0]\n",
        "prediction[prediction < 0] = 0\n",
        "prediction = prediction.squeeze(0)"
      ],
      "metadata": {
        "id": "klerOOAiNCSo"
      },
      "execution_count": null,
      "outputs": []
    },
    {
      "cell_type": "code",
      "source": [
        "show_img(prediction)"
      ],
      "metadata": {
        "id": "IBSjEt5ENEUm"
      },
      "execution_count": null,
      "outputs": []
    },
    {
      "cell_type": "code",
      "source": [
        "# img range (0~1) -> (0, 255)\n",
        "img = (img*255).astype(np.uint8)\n",
        "\n",
        "# get R channel of img\n",
        "template = np.copy(img)[:, :, 0]"
      ],
      "metadata": {
        "id": "MmaN4uW0NGR-"
      },
      "execution_count": null,
      "outputs": []
    },
    {
      "cell_type": "markdown",
      "source": [
        "Get Prediction Mask"
      ],
      "metadata": {
        "id": "ALItRqI-NIF_"
      }
    },
    {
      "cell_type": "code",
      "source": [
        "pred_mask = np.copy(template)\n",
        "pred_mask[prediction > 0.5] = 255\n",
        "show_img(pred_mask)\n",
        "pred_mask = np.stack((template, template, pred_mask), axis=2)"
      ],
      "metadata": {
        "id": "WhpoHPxDNJbT"
      },
      "execution_count": null,
      "outputs": []
    },
    {
      "cell_type": "markdown",
      "source": [
        "Get Label Mask"
      ],
      "metadata": {
        "id": "qEVnJMJTNLIh"
      }
    },
    {
      "cell_type": "code",
      "source": [
        "mask = np.copy(template)\n",
        "mask[annotation > 0.5] = 255\n",
        "show_img(mask)\n",
        "mask = np.stack((template, mask, template), axis=2)"
      ],
      "metadata": {
        "id": "5UYwcR6wNM0V"
      },
      "execution_count": null,
      "outputs": []
    },
    {
      "cell_type": "markdown",
      "source": [
        "Plot Results"
      ],
      "metadata": {
        "id": "loLSK940NOXt"
      }
    },
    {
      "cell_type": "code",
      "source": [
        "plt.subplot(1, 3, 1)\n",
        "plt.imshow(img)\n",
        "plt.axis('off')\n",
        "plt.title('Image')\n",
        "\n",
        "plt.subplot(1, 3, 2)\n",
        "plt.imshow(mask)\n",
        "plt.axis('off')\n",
        "plt.title('Mask')\n",
        "\n",
        "plt.subplot(1, 3, 3)\n",
        "plt.imshow(pred_mask)\n",
        "plt.axis('off')\n",
        "plt.title('Prediction Mask')\n",
        "\n",
        "plt.show()"
      ],
      "metadata": {
        "id": "uqBxcKC0NQLv"
      },
      "execution_count": null,
      "outputs": []
    }
  ]
}