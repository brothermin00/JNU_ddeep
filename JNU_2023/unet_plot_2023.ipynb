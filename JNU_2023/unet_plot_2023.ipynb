{
  "nbformat": 4,
  "nbformat_minor": 0,
  "metadata": {
    "colab": {
      "provenance": [],
      "authorship_tag": "ABX9TyN01Sxw/zXekCB9vrhxFcI6",
      "include_colab_link": true
    },
    "kernelspec": {
      "name": "python3",
      "display_name": "Python 3"
    },
    "language_info": {
      "name": "python"
    }
  },
  "cells": [
    {
      "cell_type": "markdown",
      "metadata": {
        "id": "view-in-github",
        "colab_type": "text"
      },
      "source": [
        "<a href=\"https://colab.research.google.com/github/brothermin00/JNU_2023/blob/main/unet_plot_2023.ipynb\" target=\"_parent\"><img src=\"https://colab.research.google.com/assets/colab-badge.svg\" alt=\"Open In Colab\"/></a>"
      ]
    },
    {
      "cell_type": "code",
      "execution_count": null,
      "metadata": {
        "id": "tWhAHsCBNb_A"
      },
      "outputs": [],
      "source": [
        "from google.colab import drive\n",
        "drive.mount('/content/drive')"
      ]
    },
    {
      "cell_type": "code",
      "source": [
        "!wget https://github.com/onebottlekick/JNU_dl/releases/download/1/unet_checkpoints.data-00000-of-00001\n",
        "!wget https://github.com/onebottlekick/JNU_dl/releases/download/1/unet_checkpoints.index\n",
        "!wget https://github.com/onebottlekick/JNU_dl/releases/download/1/data.zip"
      ],
      "metadata": {
        "id": "09gYqTVgNc7n"
      },
      "execution_count": null,
      "outputs": []
    },
    {
      "cell_type": "code",
      "source": [
        "import zipfile\n",
        "\n",
        "with zipfile.ZipFile('data.zip', 'r') as f:\n",
        "    f.extractall('./')"
      ],
      "metadata": {
        "id": "b3fz8ZrWNewU"
      },
      "execution_count": null,
      "outputs": []
    },
    {
      "cell_type": "code",
      "source": [
        "import os\n",
        "import random\n",
        "from PIL import Image\n",
        "\n",
        "class DataReader():\n",
        "    def __init__(self):\n",
        "        self.label = [\"Background\", \"Pet\"]\n",
        "\n",
        "        self.train_X = []\n",
        "        self.train_Y = []\n",
        "        self.test_X = []\n",
        "        self.test_Y = []\n",
        "\n",
        "        self.read_data()\n",
        "\n",
        "    def read_data(self):\n",
        "        print(\"Reading Data...\")\n",
        "        images = os.listdir(\"data/images\")\n",
        "        annotations = os.listdir(\"data/annotations\")\n",
        "\n",
        "        images.sort()\n",
        "        annotations.sort()\n",
        "\n",
        "        data = []\n",
        "\n",
        "        for i in range(len(images)):\n",
        "            img = Image.open(\"data/images/\" + images[i])\n",
        "            ant = Image.open(\"data/annotations/\" + annotations[i])\n",
        "\n",
        "            if img.mode != \"RGB\":\n",
        "                img = img.convert(\"RGB\")\n",
        "\n",
        "            X = np.asarray(img) / 255.0\n",
        "\n",
        "            Y_temp = np.asarray(ant)[:, :, 0]\n",
        "            Y = np.zeros_like(Y_temp)\n",
        "            Y[Y_temp > 127.5] = 1.0\n",
        "\n",
        "            data.append((X, Y))\n",
        "            img.close()\n",
        "            ant.close()\n",
        "\n",
        "        random.shuffle(data)\n",
        "\n",
        "        for i, el in enumerate(data):\n",
        "            if i < 0.8*len(data):\n",
        "                self.train_X.append(el[0])\n",
        "                self.train_Y.append(el[1])\n",
        "            else:\n",
        "                self.test_X.append(el[0])\n",
        "                self.test_Y.append(el[1])\n",
        "\n",
        "        self.train_X = np.asarray(self.train_X)\n",
        "        self.train_Y = np.asarray(self.train_Y)\n",
        "        self.test_X = np.asarray(self.test_X)\n",
        "        self.test_Y = np.asarray(self.test_Y)\n",
        "\n",
        "        # 데이터 읽기가 완료되었습니다.\n",
        "        # 읽어온 데이터의 정보를 출력합니다.\n",
        "        print(\"\\n\\nData Read Done!\")\n",
        "        print(\"Training X Size : \" + str(self.train_X.shape))\n",
        "        print(\"Training Y Size : \" + str(self.train_Y.shape))\n",
        "        print(\"Test X Size : \" + str(self.test_X.shape))\n",
        "        print(\"Test Y Size : \" + str(self.test_Y.shape) + '\\n\\n')"
      ],
      "metadata": {
        "id": "VQtNXadgNhWY"
      },
      "execution_count": null,
      "outputs": []
    },
    {
      "cell_type": "code",
      "source": [
        "import tensorflow as tf\n",
        "from tensorflow import keras\n",
        "import numpy as np\n",
        "import sys\n",
        "\n",
        "np.set_printoptions(linewidth=np.inf)\n",
        "\n",
        "\n",
        "# 인공신경망을 제작합니다.\n",
        "def graph(input_X, input_Y):\n",
        "    input = keras.layers.Input((input_X, input_Y, 3))\n",
        "\n",
        "    # 첫 번째 Convolution Block\n",
        "    Conv1 = keras.layers.Conv2D(16, (3, 3), activation=\"relu\", padding='same')(input)\n",
        "    Conv1 = keras.layers.Conv2D(16, (3, 3), activation=\"relu\", padding='same')(Conv1)\n",
        "    Pool1 = keras.layers.MaxPooling2D((2, 2)) (Conv1)\n",
        "\n",
        "    # 두 번째 Convolution Block\n",
        "    Conv2 = keras.layers.Conv2D(32, (3, 3), activation=\"relu\", padding='same')(Pool1)\n",
        "    Conv2 = keras.layers.Conv2D(32, (3, 3), activation=\"relu\", padding='same')(Conv2)\n",
        "    Pool2 = keras.layers.MaxPooling2D((2, 2))(Conv2)\n",
        "\n",
        "    # 세 번째 Convolution Block\n",
        "    Conv3 = keras.layers.Conv2D(64, (3, 3), activation=\"relu\", padding='same')(Pool2)\n",
        "    Conv3 = keras.layers.Conv2D(64, (3, 3), activation=\"relu\", padding='same')(Conv3)\n",
        "    Pool3 = keras.layers.MaxPooling2D((2, 2))(Conv3)\n",
        "\n",
        "    # 네 번째 Convolution Block\n",
        "    Conv4 = keras.layers.Conv2D(128, (3, 3), activation=\"relu\", padding='same')(Pool3)\n",
        "    Conv4 = keras.layers.Conv2D(128, (3, 3), activation=\"relu\", padding='same')(Conv4)\n",
        "    Pool4 = keras.layers.MaxPooling2D((2, 2))(Conv4)\n",
        "\n",
        "    # 다섯 번째 Convolution Block\n",
        "    Conv5 = keras.layers.Conv2D(256, (3, 3), activation=\"relu\", padding='same')(Pool4)\n",
        "    Conv5 = keras.layers.Conv2D(256, (3, 3), activation=\"relu\", padding='same')(Conv5)\n",
        "\n",
        "    # 첫 번째 Upsampling Block\n",
        "    Ups1 = keras.layers.Conv2DTranspose(128, (2, 2), strides=(2, 2))(Conv5)\n",
        "    Ups1 = keras.layers.Concatenate()([Ups1, Conv4])\n",
        "    Ups1_conv = keras.layers.Conv2D(128, (3, 3), activation=\"relu\", padding=\"same\")(Ups1)\n",
        "    Ups1_conv = keras.layers.Conv2D(128, (3, 3), activation=\"relu\", padding=\"same\")(Ups1_conv)\n",
        "\n",
        "    # 두 번째 Upsampling Block\n",
        "    Ups2 = keras.layers.Conv2DTranspose(64, (2, 2), strides=(2, 2), padding=\"same\")(Ups1_conv)\n",
        "    Ups2 = keras.layers.Concatenate()([Ups2, Conv3])\n",
        "    Ups2_conv = keras.layers.Conv2D(64, (3, 3), activation=\"relu\", padding=\"same\")(Ups2)\n",
        "    Ups2_conv = keras.layers.Conv2D(64, (3, 3), activation=\"relu\", padding=\"same\")(Ups2_conv)\n",
        "\n",
        "    # 세 번째 Upsampling Block\n",
        "    Ups3 = keras.layers.Conv2DTranspose(32, (2, 2), strides=(2, 2), padding=\"same\")(Ups2_conv)\n",
        "    Ups3 = keras.layers.Concatenate()([Ups3, Conv2])\n",
        "    Ups3_conv = keras.layers.Conv2D(32, (3, 3), activation=\"relu\", padding=\"same\")(Ups3)\n",
        "    Ups3_conv = keras.layers.Conv2D(32, (3, 3), activation=\"relu\", padding=\"same\")(Ups3_conv)\n",
        "\n",
        "    # 네 번째 Upsampling Block\n",
        "    Ups4 = keras.layers.Conv2DTranspose(16, (2, 2), strides=(2, 2), padding=\"same\")(Ups3_conv)\n",
        "    Ups4 = keras.layers.Concatenate()([Ups4, Conv1])\n",
        "    Ups4_conv = keras.layers.Conv2D(16, (3, 3), activation=\"relu\", padding=\"same\")(Ups4)\n",
        "    Ups4_conv = keras.layers.Conv2D(16, (3, 3), activation=\"relu\", padding=\"same\")(Ups4_conv)\n",
        "\n",
        "    output_logit = keras.layers.Conv2D(1, (1, 1))(Ups4_conv)\n",
        "\n",
        "    return keras.Model(inputs=input, outputs=output_logit)"
      ],
      "metadata": {
        "id": "Tc5uwVQGNkAT"
      },
      "execution_count": null,
      "outputs": []
    },
    {
      "cell_type": "code",
      "source": [
        "dr = DataReader()"
      ],
      "metadata": {
        "id": "968jNtnbNmMs"
      },
      "execution_count": null,
      "outputs": []
    },
    {
      "cell_type": "code",
      "source": [
        "model = graph(128, 128)\n",
        "model.load_weights('./unet_checkpoints')"
      ],
      "metadata": {
        "id": "y_92asKnNocl"
      },
      "execution_count": null,
      "outputs": []
    },
    {
      "cell_type": "code",
      "source": [
        "import matplotlib.pyplot as plt\n",
        "\n",
        "images = dr.test_X\n",
        "mask_y = dr.test_Y\n",
        "\n",
        "plt.imshow(images[0])\n",
        "plt.show()"
      ],
      "metadata": {
        "id": "nNP8IbwENqYd"
      },
      "execution_count": null,
      "outputs": []
    },
    {
      "cell_type": "code",
      "source": [
        "prediction = model.predict(images)[:, :, :, 0]\n",
        "print(prediction.shape)\n",
        "plt.imshow(prediction[0], cmap='gray')\n",
        "plt.show()"
      ],
      "metadata": {
        "id": "r-Us3pPQNufx"
      },
      "execution_count": null,
      "outputs": []
    },
    {
      "cell_type": "code",
      "source": [
        "# print(prediction[0])\n",
        "\n",
        "prediction[prediction < 0] = 0\n",
        "print(prediction.shape)\n",
        "plt.imshow(prediction[0], cmap='gray')\n",
        "plt.show()"
      ],
      "metadata": {
        "id": "xwpOIRALNv6Y"
      },
      "execution_count": null,
      "outputs": []
    },
    {
      "cell_type": "code",
      "source": [
        "# print(prediction[0])\n",
        "\n",
        "pred_mask = (np.copy(images)*255.0).astype(np.uint8)[:, :, :, 0]\n",
        "pred_mask[prediction > 0.5] = 255\n",
        "print(pred_mask.shape)\n",
        "plt.imshow(pred_mask[0], cmap='gray')\n",
        "plt.show()"
      ],
      "metadata": {
        "id": "wvhS7H7wNy_W"
      },
      "execution_count": null,
      "outputs": []
    },
    {
      "cell_type": "code",
      "source": [
        "mask= (np.copy(images)*255).astype(np.uint8)[:, :, :, 0]\n",
        "mask[mask_y > 0.5] = 255\n",
        "print(mask.shape)\n",
        "plt.imshow(mask[0], cmap='gray')\n",
        "plt.show()"
      ],
      "metadata": {
        "id": "nllpwzjXN1lL"
      },
      "execution_count": null,
      "outputs": []
    },
    {
      "cell_type": "code",
      "source": [
        "images = (images*255).astype(np.uint8)\n",
        "template = np.copy(images)[:, :, :, 0]\n",
        "print(template.shape)\n",
        "plt.imshow(template[0], cmap='gray')\n",
        "plt.show()"
      ],
      "metadata": {
        "id": "hR20sWqDN2_D"
      },
      "execution_count": null,
      "outputs": []
    },
    {
      "cell_type": "code",
      "source": [
        "mask = np.stack((template, mask, template), axis=3)\n",
        "print(mask.shape)\n",
        "plt.imshow(mask[0])\n",
        "plt.show()"
      ],
      "metadata": {
        "id": "hlxvYrH-N4kF"
      },
      "execution_count": null,
      "outputs": []
    },
    {
      "cell_type": "code",
      "source": [
        "pred_mask = np.stack((template, template, pred_mask), axis=3)\n",
        "print(pred_mask.shape)\n",
        "plt.imshow(pred_mask[0])\n",
        "plt.show()"
      ],
      "metadata": {
        "id": "1ktbjW4sN6Hb"
      },
      "execution_count": null,
      "outputs": []
    },
    {
      "cell_type": "code",
      "source": [
        "new_canvas = np.concatenate((images[0], mask[0], pred_mask[0]), axis=1)\n",
        "print(new_canvas.shape)\n",
        "plt.imshow(new_canvas)\n",
        "plt.figure()\n",
        "plt.show()"
      ],
      "metadata": {
        "id": "P4dghqysN7Zn"
      },
      "execution_count": null,
      "outputs": []
    }
  ]
}